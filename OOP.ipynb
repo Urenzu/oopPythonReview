{
 "cells": [
  {
   "cell_type": "markdown",
   "id": "68105858-4a58-457a-adfc-f4caec228fc5",
   "metadata": {},
   "source": [
    "Object Oriented Programming\n",
    "1. Classes"
   ]
  },
  {
   "cell_type": "code",
   "execution_count": 29,
   "id": "259d9d23-d1c0-47a2-ab36-eec6580a6244",
   "metadata": {},
   "outputs": [],
   "source": [
    "# Classes as templates for objects.\n",
    "class Person():\n",
    "    # The method that runs as soon as you create a class.\n",
    "    # Self relates to the object that the method is defined within. In this case self refers to \"Person\". \"init\" is short for initialize. \n",
    "    def __init__(self, name, age, color):\n",
    "        # Create some attributes for our person class.\n",
    "        self.name = name\n",
    "        self.age = age\n",
    "        self.color = color\n",
    "\n",
    "    # Date of birth method\n",
    "    def year_of_birth(self):\n",
    "        currentDate = 2022\n",
    "        return currentDate - self.age\n",
    "    \n",
    "    # Projected age\n",
    "    def projected_age(self, years=5):\n",
    "        return self.age + years"
   ]
  },
  {
   "cell_type": "code",
   "execution_count": 30,
   "id": "d8972c26-3fc4-47eb-8ee8-71e4570ca528",
   "metadata": {},
   "outputs": [],
   "source": [
    "# Functions that are defined within classes are called methods.\n"
   ]
  },
  {
   "cell_type": "code",
   "execution_count": 31,
   "id": "b0e2597b-75d6-422e-896d-b94be51df76f",
   "metadata": {},
   "outputs": [],
   "source": [
    "new_person = Person(\"Levi\", 19, \"Black\")"
   ]
  },
  {
   "cell_type": "code",
   "execution_count": 32,
   "id": "46e53355-3cad-4f19-8c4a-9eb8da5288c5",
   "metadata": {},
   "outputs": [
    {
     "data": {
      "text/plain": [
       "'Levi'"
      ]
     },
     "execution_count": 32,
     "metadata": {},
     "output_type": "execute_result"
    }
   ],
   "source": [
    "# Accessing a class attribute.\n",
    "new_person.name"
   ]
  },
  {
   "cell_type": "code",
   "execution_count": 33,
   "id": "b57c4af3-0789-49a8-b84d-8316194fc829",
   "metadata": {},
   "outputs": [
    {
     "data": {
      "text/plain": [
       "2003"
      ]
     },
     "execution_count": 33,
     "metadata": {},
     "output_type": "execute_result"
    }
   ],
   "source": [
    "# Run a method\n",
    "new_person.year_of_birth()"
   ]
  },
  {
   "cell_type": "code",
   "execution_count": 35,
   "id": "eb1c477e-657c-469a-aa18-b678d59ff09b",
   "metadata": {},
   "outputs": [
    {
     "data": {
      "text/plain": [
       "29"
      ]
     },
     "execution_count": 35,
     "metadata": {},
     "output_type": "execute_result"
    }
   ],
   "source": [
    "# Run a method with a keyword argument. You can set a default value or bring in your own value.\n",
    "new_person.projected_age(10)"
   ]
  },
  {
   "cell_type": "markdown",
   "id": "032a7a47-0c99-4f89-9dd0-aac92d69fbf7",
   "metadata": {},
   "source": [
    "2. Inheritance"
   ]
  },
  {
   "cell_type": "markdown",
   "id": "fa5e3e61-7fbd-4262-ab4d-26ad405e0183",
   "metadata": {},
   "source": [
    "- PARENT class is the class passing down attributes and methods. (In this case PARENT = Person)\n",
    "- CHILD class is the class inheriting the methods and attributes from the PARENT class. (In this case CHILD = Astronaut)"
   ]
  },
  {
   "cell_type": "code",
   "execution_count": 59,
   "id": "ea9dccf1-d630-42a8-bd0f-45e08296917d",
   "metadata": {},
   "outputs": [],
   "source": [
    "# Creating the class.\n",
    "class Astronaut(Person):\n",
    "    # Define initialization function\n",
    "    def __init__(self, name, age, color, mission_length_months):\n",
    "        # This is what gives up inheritance. (Passing the attributes to the CHILD class.)\n",
    "        super().__init__(name, age, color)\n",
    "        self.mission_length_months = mission_length_months\n",
    "        \n",
    "    # Method for calculating age on return\n",
    "    def age_on_return(self):\n",
    "        # Projecting the age you'll be once you return from the mission.\n",
    "        return self.projected_age(years=int(self.mission_length_months/12))"
   ]
  },
  {
   "cell_type": "code",
   "execution_count": 60,
   "id": "7022f38b-e1b6-4d2a-90ec-7c30b7eee105",
   "metadata": {},
   "outputs": [],
   "source": [
    "new_astronaut = Astronaut(\"Nick\", 99, \"Purple\", 48)"
   ]
  },
  {
   "cell_type": "code",
   "execution_count": 61,
   "id": "176226c4-0cfc-460e-a663-1964a4723513",
   "metadata": {},
   "outputs": [
    {
     "data": {
      "text/plain": [
       "'Purple'"
      ]
     },
     "execution_count": 61,
     "metadata": {},
     "output_type": "execute_result"
    }
   ],
   "source": [
    "# Accessing parent like attribute\n",
    "new_astronaut.color"
   ]
  },
  {
   "cell_type": "code",
   "execution_count": 64,
   "id": "efb44157-d856-4e1d-bc6f-2832bfce4cfe",
   "metadata": {},
   "outputs": [
    {
     "data": {
      "text/plain": [
       "1923"
      ]
     },
     "execution_count": 64,
     "metadata": {},
     "output_type": "execute_result"
    }
   ],
   "source": [
    "# Acessing the methods\n",
    "new_astronaut.year_of_birth()"
   ]
  },
  {
   "cell_type": "code",
   "execution_count": 65,
   "id": "baf55a13-4c0d-4815-8438-4d78768745af",
   "metadata": {},
   "outputs": [
    {
     "data": {
      "text/plain": [
       "103"
      ]
     },
     "execution_count": 65,
     "metadata": {},
     "output_type": "execute_result"
    }
   ],
   "source": [
    "# Running the method\n",
    "new_astronaut.age_on_return()"
   ]
  },
  {
   "cell_type": "code",
   "execution_count": null,
   "id": "a962f243-8363-424d-804d-37ebcd90cf7d",
   "metadata": {},
   "outputs": [],
   "source": []
  }
 ],
 "metadata": {
  "kernelspec": {
   "display_name": "Python 3 (ipykernel)",
   "language": "python",
   "name": "python3"
  },
  "language_info": {
   "codemirror_mode": {
    "name": "ipython",
    "version": 3
   },
   "file_extension": ".py",
   "mimetype": "text/x-python",
   "name": "python",
   "nbconvert_exporter": "python",
   "pygments_lexer": "ipython3",
   "version": "3.9.12"
  }
 },
 "nbformat": 4,
 "nbformat_minor": 5
}
